{
 "cells": [
  {
   "cell_type": "code",
   "execution_count": 3,
   "id": "baa7be57-451b-4d8e-9b84-1fe09fdb670a",
   "metadata": {},
   "outputs": [],
   "source": [
    "import pandas as pd"
   ]
  },
  {
   "cell_type": "code",
   "execution_count": 4,
   "id": "a7b0efa0-0bd1-4390-8a17-8d0d834a17a8",
   "metadata": {},
   "outputs": [],
   "source": [
    "df=pd.read_csv(\"Dataset.csv\")"
   ]
  },
  {
   "cell_type": "code",
   "execution_count": 10,
   "id": "3af2865a-3140-49c8-b4f0-a5b15c76cf06",
   "metadata": {},
   "outputs": [
    {
     "data": {
      "text/html": [
       "<div>\n",
       "<style scoped>\n",
       "    .dataframe tbody tr th:only-of-type {\n",
       "        vertical-align: middle;\n",
       "    }\n",
       "\n",
       "    .dataframe tbody tr th {\n",
       "        vertical-align: top;\n",
       "    }\n",
       "\n",
       "    .dataframe thead th {\n",
       "        text-align: right;\n",
       "    }\n",
       "</style>\n",
       "<table border=\"1\" class=\"dataframe\">\n",
       "  <thead>\n",
       "    <tr style=\"text-align: right;\">\n",
       "      <th></th>\n",
       "      <th>experience_level</th>\n",
       "      <th>employment_type</th>\n",
       "      <th>job_title</th>\n",
       "      <th>salary_in_usd</th>\n",
       "      <th>employee_residence</th>\n",
       "      <th>remote_ratio</th>\n",
       "      <th>company_location</th>\n",
       "      <th>company_size</th>\n",
       "    </tr>\n",
       "  </thead>\n",
       "  <tbody>\n",
       "    <tr>\n",
       "      <th>0</th>\n",
       "      <td>EN</td>\n",
       "      <td>FT</td>\n",
       "      <td>Data Science Consultant</td>\n",
       "      <td>64369</td>\n",
       "      <td>DE</td>\n",
       "      <td>50</td>\n",
       "      <td>DE</td>\n",
       "      <td>L</td>\n",
       "    </tr>\n",
       "    <tr>\n",
       "      <th>1</th>\n",
       "      <td>SE</td>\n",
       "      <td>FT</td>\n",
       "      <td>Data Scientist</td>\n",
       "      <td>68428</td>\n",
       "      <td>GR</td>\n",
       "      <td>100</td>\n",
       "      <td>US</td>\n",
       "      <td>L</td>\n",
       "    </tr>\n",
       "    <tr>\n",
       "      <th>2</th>\n",
       "      <td>EX</td>\n",
       "      <td>FT</td>\n",
       "      <td>Head of Data Science</td>\n",
       "      <td>85000</td>\n",
       "      <td>RU</td>\n",
       "      <td>0</td>\n",
       "      <td>RU</td>\n",
       "      <td>M</td>\n",
       "    </tr>\n",
       "    <tr>\n",
       "      <th>3</th>\n",
       "      <td>EX</td>\n",
       "      <td>FT</td>\n",
       "      <td>Head of Data</td>\n",
       "      <td>230000</td>\n",
       "      <td>RU</td>\n",
       "      <td>50</td>\n",
       "      <td>RU</td>\n",
       "      <td>L</td>\n",
       "    </tr>\n",
       "    <tr>\n",
       "      <th>4</th>\n",
       "      <td>EN</td>\n",
       "      <td>FT</td>\n",
       "      <td>Machine Learning Engineer</td>\n",
       "      <td>125000</td>\n",
       "      <td>US</td>\n",
       "      <td>100</td>\n",
       "      <td>US</td>\n",
       "      <td>S</td>\n",
       "    </tr>\n",
       "    <tr>\n",
       "      <th>...</th>\n",
       "      <td>...</td>\n",
       "      <td>...</td>\n",
       "      <td>...</td>\n",
       "      <td>...</td>\n",
       "      <td>...</td>\n",
       "      <td>...</td>\n",
       "      <td>...</td>\n",
       "      <td>...</td>\n",
       "    </tr>\n",
       "    <tr>\n",
       "      <th>240</th>\n",
       "      <td>SE</td>\n",
       "      <td>FT</td>\n",
       "      <td>Data Scientist</td>\n",
       "      <td>412000</td>\n",
       "      <td>US</td>\n",
       "      <td>100</td>\n",
       "      <td>US</td>\n",
       "      <td>L</td>\n",
       "    </tr>\n",
       "    <tr>\n",
       "      <th>241</th>\n",
       "      <td>MI</td>\n",
       "      <td>FT</td>\n",
       "      <td>Principal Data Scientist</td>\n",
       "      <td>151000</td>\n",
       "      <td>US</td>\n",
       "      <td>100</td>\n",
       "      <td>US</td>\n",
       "      <td>L</td>\n",
       "    </tr>\n",
       "    <tr>\n",
       "      <th>242</th>\n",
       "      <td>EN</td>\n",
       "      <td>FT</td>\n",
       "      <td>Data Scientist</td>\n",
       "      <td>105000</td>\n",
       "      <td>US</td>\n",
       "      <td>100</td>\n",
       "      <td>US</td>\n",
       "      <td>S</td>\n",
       "    </tr>\n",
       "    <tr>\n",
       "      <th>243</th>\n",
       "      <td>EN</td>\n",
       "      <td>CT</td>\n",
       "      <td>Business Data Analyst</td>\n",
       "      <td>100000</td>\n",
       "      <td>US</td>\n",
       "      <td>100</td>\n",
       "      <td>US</td>\n",
       "      <td>L</td>\n",
       "    </tr>\n",
       "    <tr>\n",
       "      <th>244</th>\n",
       "      <td>SE</td>\n",
       "      <td>FT</td>\n",
       "      <td>Data Science Manager</td>\n",
       "      <td>94917</td>\n",
       "      <td>IN</td>\n",
       "      <td>50</td>\n",
       "      <td>IN</td>\n",
       "      <td>L</td>\n",
       "    </tr>\n",
       "  </tbody>\n",
       "</table>\n",
       "<p>245 rows × 8 columns</p>\n",
       "</div>"
      ],
      "text/plain": [
       "    experience_level employment_type                  job_title  \\\n",
       "0                 EN              FT    Data Science Consultant   \n",
       "1                 SE              FT             Data Scientist   \n",
       "2                 EX              FT       Head of Data Science   \n",
       "3                 EX              FT               Head of Data   \n",
       "4                 EN              FT  Machine Learning Engineer   \n",
       "..               ...             ...                        ...   \n",
       "240               SE              FT             Data Scientist   \n",
       "241               MI              FT   Principal Data Scientist   \n",
       "242               EN              FT             Data Scientist   \n",
       "243               EN              CT      Business Data Analyst   \n",
       "244               SE              FT       Data Science Manager   \n",
       "\n",
       "     salary_in_usd employee_residence  remote_ratio company_location  \\\n",
       "0            64369                 DE            50               DE   \n",
       "1            68428                 GR           100               US   \n",
       "2            85000                 RU             0               RU   \n",
       "3           230000                 RU            50               RU   \n",
       "4           125000                 US           100               US   \n",
       "..             ...                ...           ...              ...   \n",
       "240         412000                 US           100               US   \n",
       "241         151000                 US           100               US   \n",
       "242         105000                 US           100               US   \n",
       "243         100000                 US           100               US   \n",
       "244          94917                 IN            50               IN   \n",
       "\n",
       "    company_size  \n",
       "0              L  \n",
       "1              L  \n",
       "2              M  \n",
       "3              L  \n",
       "4              S  \n",
       "..           ...  \n",
       "240            L  \n",
       "241            L  \n",
       "242            S  \n",
       "243            L  \n",
       "244            L  \n",
       "\n",
       "[245 rows x 8 columns]"
      ]
     },
     "execution_count": 10,
     "metadata": {},
     "output_type": "execute_result"
    }
   ],
   "source": [
    "df"
   ]
  },
  {
   "cell_type": "code",
   "execution_count": 14,
   "id": "6ee737f3-7dfe-43e9-90a9-e6e67b97bf46",
   "metadata": {},
   "outputs": [
    {
     "data": {
      "text/plain": [
       "experience_level      0\n",
       "employment_type       0\n",
       "job_title             0\n",
       "salary_in_usd         0\n",
       "employee_residence    0\n",
       "remote_ratio          0\n",
       "company_location      0\n",
       "company_size          0\n",
       "dtype: int64"
      ]
     },
     "execution_count": 14,
     "metadata": {},
     "output_type": "execute_result"
    }
   ],
   "source": [
    "df.isnull().sum()"
   ]
  },
  {
   "cell_type": "code",
   "execution_count": 19,
   "id": "802753e4-0313-4bdb-ac79-da807442aa95",
   "metadata": {},
   "outputs": [],
   "source": [
    "from sklearn.preprocessing import LabelEncoder\n",
    "\n",
    "df_encoded = df.copy()\n",
    "\n",
    "# List of categorical columns\n",
    "categorical_cols = ['experience_level', 'employment_type', 'job_title',\n",
    "                    'employee_residence', 'company_location', 'company_size']\n",
    "\n",
    "# Apply Label Encoding\n",
    "le = LabelEncoder()\n",
    "for col in categorical_cols:\n",
    "    df_encoded[col] = le.fit_transform(df_encoded[col])\n"
   ]
  },
  {
   "cell_type": "code",
   "execution_count": 20,
   "id": "5c946071-b779-473e-ad9f-29daae16a220",
   "metadata": {},
   "outputs": [],
   "source": [
    "from sklearn.model_selection import train_test_split\n",
    "\n",
    "X = df_encoded.drop('salary_in_usd', axis=1)\n",
    "y = df_encoded['salary_in_usd']\n",
    "\n",
    "X_train, X_test, y_train, y_test = train_test_split(X, y, test_size=0.2, random_state=42)\n"
   ]
  },
  {
   "cell_type": "code",
   "execution_count": 27,
   "id": "7a976936-e684-49f2-b50f-4ceb360b8488",
   "metadata": {},
   "outputs": [
    {
     "name": "stdout",
     "output_type": "stream",
     "text": [
      "Voting Regressor Performance:\n",
      "R² Score: 0.5092259418600453\n",
      "MAE: 34333.631678279635\n",
      "RMSE: 56460.18817083373\n"
     ]
    },
    {
     "name": "stderr",
     "output_type": "stream",
     "text": [
      "C:\\Users\\Muskan Singh\\anaconda3\\Lib\\site-packages\\sklearn\\metrics\\_regression.py:492: FutureWarning: 'squared' is deprecated in version 1.4 and will be removed in 1.6. To calculate the root mean squared error, use the function'root_mean_squared_error'.\n",
      "  warnings.warn(\n"
     ]
    }
   ],
   "source": [
    "from sklearn.ensemble import RandomForestRegressor, VotingRegressor\n",
    "import xgboost as xgb\n",
    "from sklearn.metrics import r2_score, mean_absolute_error, mean_squared_error\n",
    "\n",
    "# Initialize models\n",
    "rf = RandomForestRegressor(random_state=42, n_estimators=200, max_depth=10)\n",
    "xg = xgb.XGBRegressor(objective='reg:squarederror', random_state=42, n_estimators=200, max_depth=6, learning_rate=0.1)\n",
    "\n",
    "# Create Voting Regressor\n",
    "voting_regressor = VotingRegressor(estimators=[('rf', rf), ('xg', xg)])\n",
    "\n",
    "# Train Voting Regressor\n",
    "voting_regressor.fit(X_train, y_train)\n",
    "\n",
    "# Predict on test set\n",
    "y_pred = voting_regressor.predict(X_test)\n",
    "\n",
    "# Evaluate performance\n",
    "print(\"Voting Regressor Performance:\")\n",
    "print(\"R² Score:\", r2_score(y_test, y_pred))\n",
    "print(\"MAE:\", mean_absolute_error(y_test, y_pred))\n",
    "print(\"RMSE:\", mean_squared_error(y_test, y_pred, squared=False))\n"
   ]
  },
  {
   "cell_type": "code",
   "execution_count": 28,
   "id": "68e7e696-3c7f-45f0-94e1-4c514703336a",
   "metadata": {},
   "outputs": [],
   "source": [
    "from sklearn.preprocessing import LabelEncoder\n",
    "\n",
    "label_encoder = LabelEncoder()\n",
    "df['company_location'] = label_encoder.fit_transform(df['company_location'])\n",
    "df['employee_residence'] = label_encoder.fit_transform(df['employee_residence'])\n"
   ]
  },
  {
   "cell_type": "code",
   "execution_count": 29,
   "id": "36ad2b75-0538-4219-af74-d3003198f602",
   "metadata": {},
   "outputs": [],
   "source": [
    "top_jobs = df['job_title'].value_counts().nlargest(10).index\n",
    "df['job_title'] = df['job_title'].apply(lambda x: x if x in top_jobs else 'Other')\n",
    "df = pd.get_dummies(df, columns=['job_title'], drop_first=True)\n"
   ]
  },
  {
   "cell_type": "code",
   "execution_count": 30,
   "id": "efb9f465-621b-4509-9d09-e23e62d64469",
   "metadata": {},
   "outputs": [
    {
     "name": "stdout",
     "output_type": "stream",
     "text": [
      "Voting Regressor Performance:\n",
      "R² Score: 0.5092259418600453\n",
      "MAE: 34333.631678279635\n",
      "RMSE: 56460.18817083373\n"
     ]
    },
    {
     "name": "stderr",
     "output_type": "stream",
     "text": [
      "C:\\Users\\Muskan Singh\\anaconda3\\Lib\\site-packages\\sklearn\\metrics\\_regression.py:492: FutureWarning: 'squared' is deprecated in version 1.4 and will be removed in 1.6. To calculate the root mean squared error, use the function'root_mean_squared_error'.\n",
      "  warnings.warn(\n"
     ]
    }
   ],
   "source": [
    "from sklearn.ensemble import RandomForestRegressor, VotingRegressor\n",
    "import xgboost as xgb\n",
    "from sklearn.metrics import r2_score, mean_absolute_error, mean_squared_error\n",
    "\n",
    "# Initialize models\n",
    "rf = RandomForestRegressor(random_state=42, n_estimators=200, max_depth=10)\n",
    "xg = xgb.XGBRegressor(objective='reg:squarederror', random_state=42, n_estimators=200, max_depth=6, learning_rate=0.1)\n",
    "\n",
    "# Create Voting Regressor\n",
    "voting_regressor = VotingRegressor(estimators=[('rf', rf), ('xg', xg)])\n",
    "\n",
    "# Train Voting Regressor\n",
    "voting_regressor.fit(X_train, y_train)\n",
    "\n",
    "# Predict on test set\n",
    "y_pred = voting_regressor.predict(X_test)\n",
    "\n",
    "# Evaluate performance\n",
    "print(\"Voting Regressor Performance:\")\n",
    "print(\"R² Score:\", r2_score(y_test, y_pred))\n",
    "print(\"MAE:\", mean_absolute_error(y_test, y_pred))\n",
    "print(\"RMSE:\", mean_squared_error(y_test, y_pred, squared=False))\n"
   ]
  },
  {
   "cell_type": "code",
   "execution_count": 31,
   "id": "9368669c-1c56-4879-b70d-26d027e52793",
   "metadata": {},
   "outputs": [
    {
     "ename": "NameError",
     "evalue": "name 'voting_model' is not defined",
     "output_type": "error",
     "traceback": [
      "\u001b[1;31m---------------------------------------------------------------------------\u001b[0m",
      "\u001b[1;31mNameError\u001b[0m                                 Traceback (most recent call last)",
      "Cell \u001b[1;32mIn[31], line 4\u001b[0m\n\u001b[0;32m      1\u001b[0m \u001b[38;5;28;01mimport\u001b[39;00m \u001b[38;5;21;01mjoblib\u001b[39;00m\n\u001b[0;32m      3\u001b[0m \u001b[38;5;66;03m# Assuming your trained model is named 'voting_model'\u001b[39;00m\n\u001b[1;32m----> 4\u001b[0m joblib\u001b[38;5;241m.\u001b[39mdump(voting_model, \u001b[38;5;124m'\u001b[39m\u001b[38;5;124mmodel51.pkl\u001b[39m\u001b[38;5;124m'\u001b[39m)\n\u001b[0;32m      6\u001b[0m \u001b[38;5;28mprint\u001b[39m(\u001b[38;5;124m\"\u001b[39m\u001b[38;5;124mModel saved successfully as \u001b[39m\u001b[38;5;124m'\u001b[39m\u001b[38;5;124mmodel51.pkl\u001b[39m\u001b[38;5;124m'\u001b[39m\u001b[38;5;124m\"\u001b[39m)\n",
      "\u001b[1;31mNameError\u001b[0m: name 'voting_model' is not defined"
     ]
    }
   ],
   "source": [
    "import joblib\n",
    "\n",
    "# Assuming your trained model is named 'voting_model'\n",
    "joblib.dump(voting_model, 'model51.pkl')\n",
    "\n",
    "print(\"Model saved successfully as 'model51.pkl'\")\n"
   ]
  },
  {
   "cell_type": "code",
   "execution_count": null,
   "id": "54381efa-7990-4d35-943c-242ad640216a",
   "metadata": {},
   "outputs": [],
   "source": [
    "\n"
   ]
  },
  {
   "cell_type": "code",
   "execution_count": null,
   "id": "3d97c403-8f76-40b0-9677-dccf63bbc43a",
   "metadata": {},
   "outputs": [],
   "source": [
    "\n"
   ]
  },
  {
   "cell_type": "code",
   "execution_count": null,
   "id": "2b58e842-3fee-4d8a-968c-be5309bf0a01",
   "metadata": {},
   "outputs": [],
   "source": []
  },
  {
   "cell_type": "code",
   "execution_count": 40,
   "id": "206033dc-d84d-42ed-a408-f71637a34c43",
   "metadata": {},
   "outputs": [],
   "source": []
  },
  {
   "cell_type": "code",
   "execution_count": null,
   "id": "7b98436f-3bb6-4381-b45e-96bbc707f355",
   "metadata": {},
   "outputs": [],
   "source": []
  },
  {
   "cell_type": "code",
   "execution_count": null,
   "id": "f33c174b-0aac-457c-87b8-c73dac65eae4",
   "metadata": {},
   "outputs": [],
   "source": []
  }
 ],
 "metadata": {
  "kernelspec": {
   "display_name": "Python 3 (ipykernel)",
   "language": "python",
   "name": "python3"
  },
  "language_info": {
   "codemirror_mode": {
    "name": "ipython",
    "version": 3
   },
   "file_extension": ".py",
   "mimetype": "text/x-python",
   "name": "python",
   "nbconvert_exporter": "python",
   "pygments_lexer": "ipython3",
   "version": "3.12.7"
  }
 },
 "nbformat": 4,
 "nbformat_minor": 5
}
